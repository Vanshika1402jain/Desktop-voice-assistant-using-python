{
 "cells": [
  {
   "cell_type": "code",
   "execution_count": 3,
   "metadata": {},
   "outputs": [],
   "source": [
    "import pyttsx3\n",
    "import speech_recognition \n",
    "import pyjokes\n",
    "import webbrowser\n",
    "import datetime\n",
    "import os\n",
    "import wikipedia\n"
   ]
  },
  {
   "cell_type": "code",
   "execution_count": 4,
   "metadata": {},
   "outputs": [],
   "source": [
    "import pywhatkit"
   ]
  },
  {
   "cell_type": "code",
   "execution_count": 9,
   "metadata": {},
   "outputs": [],
   "source": [
    "#listen to our microphone and return the audio as text using google.\n",
    "def transform():\n",
    "    r=speech_recognition.Recognizer()\n",
    "    with speech_recognition.Microphone() as source:\n",
    "        r.pause_threshold=0.8\n",
    "        said=r.listen(source)\n",
    "        try:\n",
    "            print('I am Listening')\n",
    "            q=r.recognize_google(said,language=\"en\")\n",
    "            return q\n",
    "        except speech_recognition.UnknownValueError:\n",
    "            print(\"Sorry I did not Understand\")\n",
    "            return \"I am Waiting\"\n",
    "        except speech_recognition.RequestError:\n",
    "            print('Sorry the service is down')\n",
    "            return \"I am Waiting\"\n",
    "        except:\n",
    "            return \"I am Waiting\""
   ]
  },
  {
   "cell_type": "code",
   "execution_count": null,
   "metadata": {},
   "outputs": [],
   "source": [
    "#transform()"
   ]
  },
  {
   "cell_type": "code",
   "execution_count": 11,
   "metadata": {},
   "outputs": [],
   "source": [
    "def speaking(message):\n",
    "    engine=pyttsx3.init()\n",
    "    engine.say(message)\n",
    "    engine.runAndWait()"
   ]
  },
  {
   "cell_type": "code",
   "execution_count": null,
   "metadata": {},
   "outputs": [],
   "source": [
    "#speaking('Hello World')"
   ]
  },
  {
   "cell_type": "code",
   "execution_count": 12,
   "metadata": {},
   "outputs": [
    {
     "name": "stdout",
     "output_type": "stream",
     "text": [
      "<Voice id=HKEY_LOCAL_MACHINE\\SOFTWARE\\Microsoft\\Speech\\Voices\\Tokens\\TTS_MS_EN-GB_HAZEL_11.0\n",
      "          name=Microsoft Hazel Desktop - English (Great Britain)\n",
      "          languages=[]\n",
      "          gender=None\n",
      "          age=None>\n",
      "<Voice id=HKEY_LOCAL_MACHINE\\SOFTWARE\\Microsoft\\Speech\\Voices\\Tokens\\TTS_MS_EN-US_ZIRA_11.0\n",
      "          name=Microsoft Zira Desktop - English (United States)\n",
      "          languages=[]\n",
      "          gender=None\n",
      "          age=None>\n"
     ]
    }
   ],
   "source": [
    "engine=pyttsx3.init()\n",
    "for voice in engine.getProperty('voices'):\n",
    "    print (voice)"
   ]
  },
  {
   "cell_type": "code",
   "execution_count": 13,
   "metadata": {},
   "outputs": [],
   "source": [
    "#return the day name\n",
    "def query_day():\n",
    "    day=datetime.date.today()\n",
    "    print(day)\n",
    "    weekday=day.weekday()\n",
    "    #print(weekday)\n",
    "    mapping={\n",
    "        0:'Monday',1:'Tuesday',2:'Wednesday',3:'Thursday',4:'Friday',5:'Saturday',\n",
    "        6:'Sunday'\n",
    "    }\n",
    "    try:\n",
    "        speaking(f'Today is{mapping[weekday]}')\n",
    "        print(f'Today is {mapping[weekday]}')\n",
    "    except:\n",
    "        pass"
   ]
  },
  {
   "cell_type": "code",
   "execution_count": 14,
   "metadata": {},
   "outputs": [],
   "source": [
    "#return time\n",
    "def query_time():\n",
    "    time=datetime.datetime.now().strftime(\"%I:%M:%S\")\n",
    "    print(f\"{time[1]} o'clock and {time[3:5]} minutes\")\n",
    "    speaking(f\"{time[1]} o'clock and {time[3:5]} minutes\")\n"
   ]
  },
  {
   "cell_type": "code",
   "execution_count": 18,
   "metadata": {},
   "outputs": [],
   "source": [
    "#intro greeting\n",
    "def whatsup():\n",
    "    print('''Hi,I am Luna. \n",
    "             How May I help You \n",
    "             ''')\n",
    "    speaking('''Hi,I am Luna. \n",
    "             How May I help You \n",
    "             ''')"
   ]
  },
  {
   "cell_type": "code",
   "execution_count": 19,
   "metadata": {},
   "outputs": [],
   "source": [
    "#heart of our assistant. Take queries and returns answer\n",
    "def querying():\n",
    "    whatsup()\n",
    "    start=True\n",
    "    while(start):\n",
    "        q=transform().lower()\n",
    "\n",
    "        if 'start youtube' in q:\n",
    "            speaking('starting youtube.Just a second.')\n",
    "            webbrowser.open('https://www.youtube.com/')\n",
    "            continue\n",
    "        elif 'start webbrowser' in q:\n",
    "            speaking('opening browser')\n",
    "            webbrowser.open('https://www.google.com/')\n",
    "            continue\n",
    "        elif 'what day is it' in q:\n",
    "            query_day()\n",
    "            continue\n",
    "        elif 'what time is it' in q:\n",
    "            query_time()\n",
    "            continue\n",
    "        elif 'shutdown' in q:\n",
    "            speaking('ok I am shutting down')\n",
    "            break\n",
    "        elif 'from wikipedia' in q:\n",
    "            speaking('checking wikipedia')\n",
    "            q=q.replace(\"wikipedia\",\"\")\n",
    "            result=wikipedia.summary(q,sentences=2)\n",
    "            speaking('found on wikipedia')\n",
    "            speaking(result)\n",
    "            continue\n",
    "        elif 'your name' in q:\n",
    "            speaking('I am Luna. your VA')\n",
    "            continue\n",
    "        elif 'search web' in q:\n",
    "            pywhatkit.search(q)\n",
    "            speaking('thats what I found')\n",
    "            continue\n",
    "        elif 'play' in q:\n",
    "            speaking(f'playing{q}')\n",
    "            pywhatkit.playonyt(q)\n",
    "            continue\n",
    "        elif 'joke' in q:\n",
    "            speaking(pyjokes.get_jokes())\n",
    "            continue\n",
    "        \n",
    "       "
   ]
  },
  {
   "cell_type": "code",
   "execution_count": 22,
   "metadata": {},
   "outputs": [
    {
     "name": "stdout",
     "output_type": "stream",
     "text": [
      "Hi,I am Luna. \n",
      "             How May I help You \n",
      "             \n",
      "I am Listening\n",
      "I am Listening\n",
      "Sorry I did not Understand\n",
      "I am Listening\n",
      "I am Listening\n"
     ]
    }
   ],
   "source": [
    "querying()"
   ]
  }
 ],
 "metadata": {
  "kernelspec": {
   "display_name": "Python 3",
   "language": "python",
   "name": "python3"
  },
  "language_info": {
   "codemirror_mode": {
    "name": "ipython",
    "version": 3
   },
   "file_extension": ".py",
   "mimetype": "text/x-python",
   "name": "python",
   "nbconvert_exporter": "python",
   "pygments_lexer": "ipython3",
   "version": "3.10.7"
  }
 },
 "nbformat": 4,
 "nbformat_minor": 2
}
